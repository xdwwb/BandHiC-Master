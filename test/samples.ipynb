{
 "cells": [
  {
   "cell_type": "code",
   "execution_count": 38,
   "id": "146e08d8",
   "metadata": {},
   "outputs": [],
   "source": [
    "import operator\n",
    "import sys\n",
    "import os\n",
    "import numbers\n",
    "# Pytest-based test suite for band_hic_matrix\n",
    "import pytest\n",
    "import numpy as np\n",
    "from scipy.sparse import coo_matrix\n",
    "import types\n",
    "import copy\n",
    "import importlib\n",
    "import numpy.ma as ma\n",
    "import bandhic as bh"
   ]
  },
  {
   "cell_type": "code",
   "execution_count": 39,
   "id": "a63f5aa7",
   "metadata": {},
   "outputs": [
    {
     "data": {
      "text/plain": [
       "<module 'bandhic' from '/Users/wwb/Documents/workspace/BandHiC-Master/bandhic/__init__.py'>"
      ]
     },
     "execution_count": 39,
     "metadata": {},
     "output_type": "execute_result"
    }
   ],
   "source": [
    "importlib.reload(bh)"
   ]
  },
  {
   "cell_type": "code",
   "execution_count": 40,
   "id": "c8b3c2d7",
   "metadata": {},
   "outputs": [
    {
     "name": "stderr",
     "output_type": "stream",
     "text": [
      "/Users/wwb/Documents/workspace/BandHiC-Master/bandhic/bandhic.py:1538: UserWarning: Some entries are out of range for the specified diag_num. These entries will be ignored.\n",
      "  warnings.warn(\n"
     ]
    }
   ],
   "source": [
    "mat = bh.straw_chr('../data/GSE130275_mESC_WT_combined_1.3B_microc.hic',chrom='chr19',resolution=10000,diag_num=200)"
   ]
  },
  {
   "cell_type": "code",
   "execution_count": 43,
   "id": "18ee77a7",
   "metadata": {},
   "outputs": [],
   "source": [
    "bh.save_npz('../data/sample.npz', mat)"
   ]
  },
  {
   "cell_type": "code",
   "execution_count": 44,
   "id": "0b4df6f3",
   "metadata": {},
   "outputs": [
    {
     "data": {
      "text/plain": [
       "9814800"
      ]
     },
     "execution_count": 44,
     "metadata": {},
     "output_type": "execute_result"
    }
   ],
   "source": [
    "mat.memory_usage()"
   ]
  },
  {
   "cell_type": "code",
   "execution_count": 45,
   "id": "cb670395",
   "metadata": {},
   "outputs": [],
   "source": [
    "mat_dense = mat.todense()"
   ]
  },
  {
   "cell_type": "code",
   "execution_count": 46,
   "id": "39005c52",
   "metadata": {},
   "outputs": [
    {
     "data": {
      "text/plain": [
       "301007648"
      ]
     },
     "execution_count": 46,
     "metadata": {},
     "output_type": "execute_result"
    }
   ],
   "source": [
    "mat_dense.nbytes"
   ]
  },
  {
   "cell_type": "code",
   "execution_count": 47,
   "id": "5c3c51d6",
   "metadata": {},
   "outputs": [
    {
     "data": {
      "text/plain": [
       "array([False, False, False, ...,  True,  True,  True])"
      ]
     },
     "execution_count": 47,
     "metadata": {},
     "output_type": "execute_result"
    }
   ],
   "source": [
    "mat.any(axis=1)"
   ]
  },
  {
   "cell_type": "code",
   "execution_count": 48,
   "id": "f33f4ec6",
   "metadata": {},
   "outputs": [],
   "source": [
    "mat.add_mask_row_col(np.logical_not(mat.any(axis=1)))"
   ]
  },
  {
   "cell_type": "code",
   "execution_count": 49,
   "id": "5e7d2611",
   "metadata": {},
   "outputs": [
    {
     "data": {
      "text/plain": [
       "array([ True,  True,  True, ..., False, False, False])"
      ]
     },
     "execution_count": 49,
     "metadata": {},
     "output_type": "execute_result"
    }
   ],
   "source": [
    "mat.mask_row_col"
   ]
  },
  {
   "cell_type": "code",
   "execution_count": 50,
   "id": "bf31b200",
   "metadata": {},
   "outputs": [
    {
     "data": {
      "text/plain": [
       "0.05216824258232801"
      ]
     },
     "execution_count": 50,
     "metadata": {},
     "output_type": "execute_result"
    }
   ],
   "source": [
    "np.sum(mat.mask_row_col)/mat.mask_row_col.size"
   ]
  },
  {
   "cell_type": "code",
   "execution_count": 51,
   "id": "1c8a90f0",
   "metadata": {},
   "outputs": [
    {
     "data": {
      "text/plain": [
       "array([[  0.,   0.,   0., ...,   0.,   0.,   0.],\n",
       "       [  0.,   0.,   0., ...,   0.,   0.,   0.],\n",
       "       [  0.,   0.,   0., ...,   0.,   0.,   0.],\n",
       "       ...,\n",
       "       [762., 229.,  10., ...,   0.,   0.,   0.],\n",
       "       [435., 111.,   0., ...,   0.,   0.,   0.],\n",
       "       [ 26.,   0.,   0., ...,   0.,   0.,   0.]])"
      ]
     },
     "execution_count": 51,
     "metadata": {},
     "output_type": "execute_result"
    }
   ],
   "source": [
    "mat.data"
   ]
  },
  {
   "cell_type": "code",
   "execution_count": 52,
   "id": "76d47cbb",
   "metadata": {},
   "outputs": [],
   "source": [
    "mat_dense=mat.todense()"
   ]
  },
  {
   "cell_type": "code",
   "execution_count": 53,
   "id": "3de6e3e5",
   "metadata": {},
   "outputs": [
    {
     "data": {
      "text/plain": [
       "masked_array(\n",
       "  data=[[--, --, --, ..., --, --, --],\n",
       "        [--, --, --, ..., --, --, --],\n",
       "        [--, --, --, ..., --, --, --],\n",
       "        ...,\n",
       "        [--, --, --, ..., 762.0, 229.0, 10.0],\n",
       "        [--, --, --, ..., 229.0, 435.0, 111.0],\n",
       "        [--, --, --, ..., 10.0, 111.0, 26.0]],\n",
       "  mask=[[ True,  True,  True, ...,  True,  True,  True],\n",
       "        [ True,  True,  True, ...,  True,  True,  True],\n",
       "        [ True,  True,  True, ...,  True,  True,  True],\n",
       "        ...,\n",
       "        [ True,  True,  True, ..., False, False, False],\n",
       "        [ True,  True,  True, ..., False, False, False],\n",
       "        [ True,  True,  True, ..., False, False, False]],\n",
       "  fill_value=0.0)"
      ]
     },
     "execution_count": 53,
     "metadata": {},
     "output_type": "execute_result"
    }
   ],
   "source": [
    "mat_dense"
   ]
  },
  {
   "cell_type": "code",
   "execution_count": 54,
   "id": "a6d44292",
   "metadata": {},
   "outputs": [],
   "source": [
    "mat_min=mat.min(axis=0)"
   ]
  },
  {
   "cell_type": "code",
   "execution_count": 55,
   "id": "afaa0c7d",
   "metadata": {},
   "outputs": [],
   "source": [
    "mat_dense_min=mat_dense.min(axis=0)"
   ]
  },
  {
   "cell_type": "code",
   "execution_count": 56,
   "id": "ddb32cf7",
   "metadata": {},
   "outputs": [
    {
     "data": {
      "text/plain": [
       "masked_array(data=[--, --, --, ..., 0.0, 0.0, 0.0],\n",
       "             mask=[ True,  True,  True, ..., False, False, False],\n",
       "       fill_value=0.0)"
      ]
     },
     "execution_count": 56,
     "metadata": {},
     "output_type": "execute_result"
    }
   ],
   "source": [
    "mat_min"
   ]
  },
  {
   "cell_type": "code",
   "execution_count": 57,
   "id": "e6d3dcdb",
   "metadata": {},
   "outputs": [
    {
     "data": {
      "text/plain": [
       "masked_array(data=[--, --, --, ..., 0.0, 0.0, 0.0],\n",
       "             mask=[ True,  True,  True, ..., False, False, False],\n",
       "       fill_value=1e+20)"
      ]
     },
     "execution_count": 57,
     "metadata": {},
     "output_type": "execute_result"
    }
   ],
   "source": [
    "mat_dense_min"
   ]
  },
  {
   "cell_type": "code",
   "execution_count": 58,
   "id": "7a80bd60",
   "metadata": {},
   "outputs": [
    {
     "data": {
      "text/plain": [
       "True"
      ]
     },
     "execution_count": 58,
     "metadata": {},
     "output_type": "execute_result"
    }
   ],
   "source": [
    "ma.allequal(mat_min,mat_dense_min)"
   ]
  },
  {
   "cell_type": "code",
   "execution_count": 59,
   "id": "4c62f68e",
   "metadata": {},
   "outputs": [
    {
     "data": {
      "text/plain": [
       "True"
      ]
     },
     "execution_count": 59,
     "metadata": {},
     "output_type": "execute_result"
    }
   ],
   "source": [
    "np.array_equal(mat_min.mask,mat_dense_min.mask)"
   ]
  },
  {
   "cell_type": "code",
   "execution_count": 60,
   "id": "6128fd9e",
   "metadata": {},
   "outputs": [
    {
     "data": {
      "text/plain": [
       "True"
      ]
     },
     "execution_count": 60,
     "metadata": {},
     "output_type": "execute_result"
    }
   ],
   "source": [
    "np.array_equal(mat_dense.T,mat_dense)"
   ]
  },
  {
   "cell_type": "code",
   "execution_count": 61,
   "id": "800e39e1",
   "metadata": {},
   "outputs": [],
   "source": [
    "diags=[mat_dense.diagonal(k).min() for k in range(mat.diag_num)]"
   ]
  },
  {
   "cell_type": "code",
   "execution_count": 62,
   "id": "3b6a9d86",
   "metadata": {},
   "outputs": [],
   "source": [
    "diags=np.array(diags)"
   ]
  },
  {
   "cell_type": "code",
   "execution_count": 63,
   "id": "c39064a1",
   "metadata": {},
   "outputs": [
    {
     "data": {
      "text/plain": [
       "True"
      ]
     },
     "execution_count": 63,
     "metadata": {},
     "output_type": "execute_result"
    }
   ],
   "source": [
    "ma.allequal(mat.min(axis='diag'),ma.MaskedArray(diags,mask=False))"
   ]
  },
  {
   "cell_type": "code",
   "execution_count": 64,
   "id": "bd18045a",
   "metadata": {},
   "outputs": [
    {
     "data": {
      "text/plain": [
       "True"
      ]
     },
     "execution_count": 64,
     "metadata": {},
     "output_type": "execute_result"
    }
   ],
   "source": [
    "ma.allequal(mat.min(),ma.MaskedArray(mat_dense).min())"
   ]
  },
  {
   "cell_type": "code",
   "execution_count": 66,
   "id": "2dacd4ec",
   "metadata": {},
   "outputs": [
    {
     "name": "stderr",
     "output_type": "stream",
     "text": [
      "/Users/wwb/Documents/workspace/BandHiC-Master/bandhic/bandhic.py:1538: UserWarning: Some entries are out of range for the specified diag_num. These entries will be ignored.\n",
      "  warnings.warn(\n"
     ]
    }
   ],
   "source": [
    "params = {\n",
    "        \"path\": \"/Users/wwb/Documents/workspace/BandHiC-Master/data/GSE130275_mESC_WT_combined_1.3B_microc.hic\",\n",
    "        \"chrom\": \"chr19\",\n",
    "        \"resolution\": 10000,\n",
    "        \"diag_num\": 200\n",
    "    }\n",
    "\n",
    "if \"path\" in params:\n",
    "    mat = bh.straw_chr(params['path'],params['chrom'],params['resolution'],diag_num=params['diag_num'])\n",
    "    mat_dense = mat.todense()\n",
    "    row_sum = mat_dense.sum(axis=0)\n",
    "    mat.add_mask_row_col(row_sum==0)\n",
    "    mat_dense=np.ma.masked_array(mat_dense,mask=False,fill_value=0)\n",
    "    mat_dense[row_sum==0,:]=np.ma.masked\n",
    "    mat_dense[:,row_sum==0]=np.ma.masked"
   ]
  },
  {
   "cell_type": "code",
   "execution_count": 67,
   "id": "e4483616",
   "metadata": {},
   "outputs": [
    {
     "data": {
      "text/plain": [
       "True"
      ]
     },
     "execution_count": 67,
     "metadata": {},
     "output_type": "execute_result"
    }
   ],
   "source": [
    "ma.allequal(mat.todense(),mat_dense)"
   ]
  },
  {
   "cell_type": "code",
   "execution_count": 68,
   "id": "30430e5e",
   "metadata": {},
   "outputs": [],
   "source": [
    "def get_index(bin_num, diag_num):\n",
    "    \"\"\"\n",
    "    Generate full grid of row and column indices.\n",
    "\n",
    "    Returns\n",
    "    -------\n",
    "    tuple of ndarray\n",
    "        (row_idx_grid, col_idx_grid).\n",
    "\n",
    "    Examples\n",
    "    --------\n",
    "    >>> import bandhic as bh\n",
    "    >>> mat = bh.ones((3,3), diag_num=2)\n",
    "    >>> X, Y = mat.get_index()\n",
    "    \"\"\"\n",
    "    x_index = np.repeat(\n",
    "        np.arange(0, bin_num).reshape(-1, 1), diag_num, axis=1\n",
    "    )\n",
    "    y_index = x_index + np.arange(0, diag_num)\n",
    "    is_valid = y_index < bin_num\n",
    "    return x_index[is_valid], y_index[is_valid]"
   ]
  },
  {
   "cell_type": "code",
   "execution_count": 69,
   "id": "894983bb",
   "metadata": {},
   "outputs": [
    {
     "data": {
      "text/plain": [
       "(array([ 0,  0,  0,  0,  0,  1,  1,  1,  1,  1,  2,  2,  2,  2,  2,  3,  3,\n",
       "         3,  3,  3,  4,  4,  4,  4,  4,  5,  5,  5,  5,  5,  6,  6,  6,  6,\n",
       "         6,  7,  7,  7,  7,  7,  8,  8,  8,  8,  8,  9,  9,  9,  9,  9, 10,\n",
       "        10, 10, 10, 10, 11, 11, 11, 11, 11, 12, 12, 12, 12, 12, 13, 13, 13,\n",
       "        13, 13, 14, 14, 14, 14, 14, 15, 15, 15, 15, 15, 16, 16, 16, 16, 17,\n",
       "        17, 17, 18, 18, 19]),\n",
       " array([ 0,  1,  2,  3,  4,  1,  2,  3,  4,  5,  2,  3,  4,  5,  6,  3,  4,\n",
       "         5,  6,  7,  4,  5,  6,  7,  8,  5,  6,  7,  8,  9,  6,  7,  8,  9,\n",
       "        10,  7,  8,  9, 10, 11,  8,  9, 10, 11, 12,  9, 10, 11, 12, 13, 10,\n",
       "        11, 12, 13, 14, 11, 12, 13, 14, 15, 12, 13, 14, 15, 16, 13, 14, 15,\n",
       "        16, 17, 14, 15, 16, 17, 18, 15, 16, 17, 18, 19, 16, 17, 18, 19, 17,\n",
       "        18, 19, 18, 19, 19]))"
      ]
     },
     "execution_count": 69,
     "metadata": {},
     "output_type": "execute_result"
    }
   ],
   "source": [
    "get_index(20,5)"
   ]
  }
 ],
 "metadata": {
  "kernelspec": {
   "display_name": "base",
   "language": "python",
   "name": "python3"
  },
  "language_info": {
   "codemirror_mode": {
    "name": "ipython",
    "version": 3
   },
   "file_extension": ".py",
   "mimetype": "text/x-python",
   "name": "python",
   "nbconvert_exporter": "python",
   "pygments_lexer": "ipython3",
   "version": "3.11.7"
  }
 },
 "nbformat": 4,
 "nbformat_minor": 5
}
